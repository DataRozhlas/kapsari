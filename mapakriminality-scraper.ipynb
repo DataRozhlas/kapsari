{
 "cells": [
  {
   "cell_type": "code",
   "execution_count": 91,
   "metadata": {
    "collapsed": true
   },
   "outputs": [],
   "source": [
    "import pandas as pd\n",
    "import urllib\n",
    "import json\n",
    "import numpy as np\n",
    "import csv"
   ]
  },
  {
   "cell_type": "code",
   "execution_count": 16,
   "metadata": {
    "collapsed": false
   },
   "outputs": [],
   "source": [
    "#sluzebny\n",
    "r = urllib.request.urlopen('http://mapakriminality.cz/api/areas?level=3')\n",
    "data = json.loads(r.read().decode(r.info().get_param('charset') or 'utf-8'))\n",
    "\n",
    "arrs = {}\n",
    "ind = 0\n",
    "for ar in data['areas']:\n",
    "    ind += 1\n",
    "    arrs[ind] = ar\n",
    "    \n",
    "sluzebny = pd.DataFrame.from_dict(arrs, orient='index')"
   ]
  },
  {
   "cell_type": "code",
   "execution_count": 17,
   "metadata": {
    "collapsed": false
   },
   "outputs": [],
   "source": [
    "out = {}\n",
    "\n",
    "for row in sluzebny.iterrows():\n",
    "    code = row[1]['Code']\n",
    "    r = urllib.request.urlopen('http://mapakriminality.cz/api/crimes?areacode=' + code + '&crimetypes=411&timefrom=1-2013&timeto=11-2015&groupby=time')\n",
    "    resp = json.loads(r.read().decode(r.info().get_param('charset') or 'utf-8'))['crimes']\n",
    "    \n",
    "    ret = {}\n",
    "    for month in resp:\n",
    "        ret[month['TimePeriod']] = {i:month[i] for i in month if i!='TimePeriod'}\n",
    "    out[code] = ret"
   ]
  },
  {
   "cell_type": "code",
   "execution_count": 89,
   "metadata": {
    "collapsed": false
   },
   "outputs": [
    {
     "name": "stderr",
     "output_type": "stream",
     "text": [
      "C:\\Anaconda3\\lib\\site-packages\\numpy\\core\\_methods.py:59: RuntimeWarning: Mean of empty slice.\n",
      "  warnings.warn(\"Mean of empty slice.\", RuntimeWarning)\n"
     ]
    }
   ],
   "source": [
    "#transpose\n",
    "transout = {}\n",
    "for dist in out:\n",
    "    dats = []\n",
    "    if dist not in transout:\n",
    "        transout[dist] = {'data': {}}\n",
    "    \n",
    "    for month in out[dist]:\n",
    "        try:\n",
    "            dats.append(float(out[dist][month]['CrimeRate']))\n",
    "        except:\n",
    "            continue\n",
    "        try:\n",
    "            transout[dist]['data'][month] = float(out[dist][month]['Found'])\n",
    "        except:\n",
    "            continue\n",
    "    transout[dist]['rate'] = np.mean(dats)"
   ]
  },
  {
   "cell_type": "code",
   "execution_count": 92,
   "metadata": {
    "collapsed": false
   },
   "outputs": [],
   "source": [
    "with open('data/transposed.csv', 'w', newline='') as csvfile:\n",
    "    spamwriter = csv.writer(csvfile, delimiter=';', quotechar='|', quoting=csv.QUOTE_MINIMAL)\n",
    "    spamwriter.writerow(['oopID', 'rate', 'data'])\n",
    "    for oop in transout:\n",
    "        spamwriter.writerow([oop, transout[oop]['rate'], transout[oop]['data']])"
   ]
  }
 ],
 "metadata": {
  "kernelspec": {
   "display_name": "Python 3",
   "language": "python",
   "name": "python3"
  },
  "language_info": {
   "codemirror_mode": {
    "name": "ipython",
    "version": 3
   },
   "file_extension": ".py",
   "mimetype": "text/x-python",
   "name": "python",
   "nbconvert_exporter": "python",
   "pygments_lexer": "ipython3",
   "version": "3.4.3"
  }
 },
 "nbformat": 4,
 "nbformat_minor": 0
}
